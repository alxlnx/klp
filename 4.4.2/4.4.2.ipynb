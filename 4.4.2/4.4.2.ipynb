{
 "cells": [
  {
   "cell_type": "markdown",
   "metadata": {},
   "source": [
    "# 4.4.2 Фазовая дифракционная решётка"
   ]
  },
  {
   "cell_type": "markdown",
   "metadata": {
    "vscode": {
     "languageId": "plaintext"
    }
   },
   "source": [
    "https://github.com/BlackSamorez/mipt_lab/tree/master/4.4.2/pdf    \n",
    "https://old.mipt.ru/education/chair/physics/S_IV/labs-opt/%D0%93%D0%BE%D0%BD%D0%B8%D0%BE%D0%BC%D0%B5%D1%82%D1%80%20%D0%93-5.pdf"
   ]
  },
  {
   "cell_type": "code",
   "execution_count": null,
   "metadata": {
    "vscode": {
     "languageId": "plaintext"
    }
   },
   "outputs": [],
   "source": []
  }
 ],
 "metadata": {
  "language_info": {
   "name": "python"
  }
 },
 "nbformat": 4,
 "nbformat_minor": 2
}

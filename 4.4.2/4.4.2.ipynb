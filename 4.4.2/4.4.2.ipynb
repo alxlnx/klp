{
 "cells": [
  {
   "cell_type": "markdown",
   "metadata": {},
   "source": [
    "# 4.4.2 Фазовая дифракционная решётка"
   ]
  },
  {
   "cell_type": "markdown",
   "metadata": {
    "vscode": {
     "languageId": "plaintext"
    }
   },
   "source": [
    "https://github.com/BlackSamorez/mipt_lab/tree/master/4.4.2/pdf    \n",
    "https://old.mipt.ru/education/chair/physics/S_IV/labs-opt/%D0%93%D0%BE%D0%BD%D0%B8%D0%BE%D0%BC%D0%B5%D1%82%D1%80%20%D0%93-5.pdf"
   ]
  },
  {
   "cell_type": "code",
   "execution_count": null,
   "metadata": {
    "vscode": {
     "languageId": "plaintext"
    }
   },
   "outputs": [],
   "source": [
    "import numpy as np\n",
    "import mygraph as mg\n",
    "\n",
    "X = np.array([2,3,4,5])\n",
    "Y = np.array([0.69, 0.68, 0.66, 0.66])\n",
    "\n",
    "fig = mg.make_figure(dpi_mode='high')\n",
    "ax = fig.add_subplot()\n",
    "mg.set_grids(fig)\n",
    "mg.set_title(ax, r'Зависимость $2\\xi_n$ от n')\n",
    "mg.set_label(ax, r'$n$ ', r'$2\\xi_n, мм$')\n",
    "\n",
    "mg.draw_errorbar(ax, X, Y, x_err=0, y_err=.1, label='По дифракции')\n",
    "mg.linls(X, Y)\n",
    "mg.display_linls(ax)\n",
    "ax.plot([2,3,4,5], [0.67]*4, label='По винту', c='k')\n",
    "ax.legend()"
   ]
  }
 ],
 "metadata": {
  "language_info": {
   "name": "python"
  }
 },
 "nbformat": 4,
 "nbformat_minor": 2
}

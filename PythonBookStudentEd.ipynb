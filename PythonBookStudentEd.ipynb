{
 "cells": [
  {
   "cell_type": "markdown",
   "id": "f584f0e8",
   "metadata": {},
   "source": [
    "# Предыдущие ipybn_s"
   ]
  },
  {
   "cell_type": "markdown",
   "id": "f3c6db51",
   "metadata": {},
   "source": [
    "Shift + Enter - запустить код в ячейке."
   ]
  },
  {
   "cell_type": "code",
   "execution_count": 7,
   "id": "0da302b6",
   "metadata": {
    "scrolled": true
   },
   "outputs": [
    {
     "name": "stdout",
     "output_type": "stream",
     "text": [
      "Help on built-in function print in module builtins:\n",
      "\n",
      "print(...)\n",
      "    print(value, ..., sep=' ', end='\\n', file=sys.stdout, flush=False)\n",
      "    \n",
      "    Prints the values to a stream, or to sys.stdout by default.\n",
      "    Optional keyword arguments:\n",
      "    file:  a file-like object (stream); defaults to the current sys.stdout.\n",
      "    sep:   string inserted between values, default a space.\n",
      "    end:   string appended after the last value, default a newline.\n",
      "    flush: whether to forcibly flush the stream.\n",
      "\n"
     ]
    }
   ],
   "source": [
    "help(print)  # Вывести docstring"
   ]
  },
  {
   "cell_type": "code",
   "execution_count": 9,
   "id": "c2b2d999",
   "metadata": {
    "scrolled": true
   },
   "outputs": [
    {
     "data": {
      "text/plain": [
       "['__doc__',\n",
       " '__file__',\n",
       " '__loader__',\n",
       " '__name__',\n",
       " '__package__',\n",
       " '__spec__',\n",
       " 'acos',\n",
       " 'acosh',\n",
       " 'asin',\n",
       " 'asinh',\n",
       " 'atan',\n",
       " 'atan2',\n",
       " 'atanh',\n",
       " 'ceil',\n",
       " 'comb',\n",
       " 'copysign',\n",
       " 'cos',\n",
       " 'cosh',\n",
       " 'degrees',\n",
       " 'dist',\n",
       " 'e',\n",
       " 'erf',\n",
       " 'erfc',\n",
       " 'exp',\n",
       " 'expm1',\n",
       " 'fabs',\n",
       " 'factorial',\n",
       " 'floor',\n",
       " 'fmod',\n",
       " 'frexp',\n",
       " 'fsum',\n",
       " 'gamma',\n",
       " 'gcd',\n",
       " 'hypot',\n",
       " 'inf',\n",
       " 'isclose',\n",
       " 'isfinite',\n",
       " 'isinf',\n",
       " 'isnan',\n",
       " 'isqrt',\n",
       " 'lcm',\n",
       " 'ldexp',\n",
       " 'lgamma',\n",
       " 'log',\n",
       " 'log10',\n",
       " 'log1p',\n",
       " 'log2',\n",
       " 'modf',\n",
       " 'nan',\n",
       " 'nextafter',\n",
       " 'perm',\n",
       " 'pi',\n",
       " 'pow',\n",
       " 'prod',\n",
       " 'radians',\n",
       " 'remainder',\n",
       " 'sin',\n",
       " 'sinh',\n",
       " 'sqrt',\n",
       " 'tan',\n",
       " 'tanh',\n",
       " 'tau',\n",
       " 'trunc',\n",
       " 'ulp']"
      ]
     },
     "execution_count": 9,
     "metadata": {},
     "output_type": "execute_result"
    }
   ],
   "source": [
    "import math\n",
    "dir(math) # Функция dir позволяет узнать какие имена используются в библиотеке"
   ]
  },
  {
   "cell_type": "code",
   "execution_count": 10,
   "id": "ba743410",
   "metadata": {
    "scrolled": false
   },
   "outputs": [
    {
     "data": {
      "text/plain": [
       "3"
      ]
     },
     "execution_count": 10,
     "metadata": {},
     "output_type": "execute_result"
    }
   ],
   "source": [
    "a = 'AAABBBCCC'\n",
    "a.count('A')  # Подсчёт кол-ва символов в строке"
   ]
  },
  {
   "cell_type": "code",
   "execution_count": null,
   "id": "08eb5087",
   "metadata": {},
   "outputs": [],
   "source": [
    "def __add__(self, another_vector):\n",
    "    \"\"\"\n",
    "    Позволяет складывать два вектора с помощью оператора +\n",
    "    \"\"\"\n",
    "    return VelocityVector2D(self.x + another_vector.x, self.y + another_vector.y)\n",
    "def __repr__(self):\n",
    "    \"\"\"\n",
    "    Генериует строковой представление для нашего класса\n",
    "    Например, мы теперь можем сделать:\n",
    "    print(VelocityVector2D(3,4))\n",
    "    \"\"\"\n",
    "    return \"Vx = {0} {2}, Vy = {1} {2}\".format(self.x, self.y , self.units)\n",
    "    "
   ]
  },
  {
   "cell_type": "code",
   "execution_count": null,
   "id": "b075e2cd",
   "metadata": {},
   "outputs": [],
   "source": [
    "result = sorted(data, # Входные данные\n",
    "                key = lambda velocity : velocity.module() # Функция принимающая в качестве аргумента элемент из data\n",
    "                                                          # и определяющая порядок сортировки\n",
    "               )\n",
    "# Анонимная функция также может иметь несколько аргументов\n",
    "print((lambda x, y: x * y)(1, 2))"
   ]
  },
  {
   "cell_type": "markdown",
   "id": "86b0eed4",
   "metadata": {},
   "source": [
    "# 5. Работа с произвольными файлами"
   ]
  },
  {
   "cell_type": "code",
   "execution_count": null,
   "id": "ca457a00",
   "metadata": {},
   "outputs": [],
   "source": [
    "a, b = 1, 2  # 1,2 это на самом деле кортеж, который  можно распаковать по отдельным переменным\n",
    "c = (1,2)\n",
    "a, b = fun(*c)  # `*c` позволяет распаковать значения из кортежа `с` как аргументы функции"
   ]
  },
  {
   "cell_type": "code",
   "execution_count": null,
   "id": "9c9339c3",
   "metadata": {},
   "outputs": [],
   "source": [
    "fun(**d)  # `**d` позволяет распаковать значения из словаря `d` как именнованые аргументы функции"
   ]
  },
  {
   "cell_type": "markdown",
   "id": "4f84d9d7",
   "metadata": {},
   "source": [
    "# 6. Работа с файлами, Pandas"
   ]
  },
  {
   "cell_type": "code",
   "execution_count": null,
   "id": "addb3356",
   "metadata": {},
   "outputs": [],
   "source": [
    "# Чтение\n",
    "import pandas as pd\n",
    "data_frame = pd.read_csv('filename.csv', sep=';')\n",
    "# Запись\n",
    "data_frame.to_csv('filename_result.csv', index=False, sep=';')"
   ]
  },
  {
   "cell_type": "markdown",
   "id": "20e4f53f",
   "metadata": {},
   "source": [
    "   # 8.  Вычислительные методы в физике"
   ]
  },
  {
   "cell_type": "markdown",
   "id": "82520f2b",
   "metadata": {},
   "source": [
    "Заметки номер 7 оказались бесполезными."
   ]
  },
  {
   "cell_type": "markdown",
   "id": "8ef5e78c",
   "metadata": {},
   "source": [
    "## Фитирование"
   ]
  },
  {
   "cell_type": "markdown",
   "id": "f3647ac3",
   "metadata": {},
   "source": [
    "### Пример 1"
   ]
  },
  {
   "cell_type": "code",
   "execution_count": 12,
   "id": "480abccb",
   "metadata": {},
   "outputs": [],
   "source": [
    "import numpy as np # работа с массивами и линейной алгеброй\n",
    "import matplotlib.pyplot as plt # для отрисовки графиков\n",
    "import pandas as pd # для чтения и работы с данными\n",
    "from scipy.optimize import curve_fit # фитирующая процедура"
   ]
  },
  {
   "cell_type": "code",
   "execution_count": 13,
   "id": "105b9371",
   "metadata": {},
   "outputs": [],
   "source": [
    "def parabola(x, a, b, c):\n",
    "    \"\"\"\n",
    "    Параметрическая парабола; мы знаем, что зависимость именно такая, и хотим уточнить её параметры (a, b, c)\n",
    "    \"\"\"\n",
    "    return a*x**2 + b*x + c"
   ]
  },
  {
   "cell_type": "code",
   "execution_count": 15,
   "id": "bc8daec3",
   "metadata": {},
   "outputs": [
    {
     "ename": "NameError",
     "evalue": "name 'x' is not defined",
     "output_type": "error",
     "traceback": [
      "\u001b[0;31m---------------------------------------------------------------------------\u001b[0m",
      "\u001b[0;31mNameError\u001b[0m                                 Traceback (most recent call last)",
      "\u001b[0;32m/tmp/ipykernel_16807/2074054019.py\u001b[0m in \u001b[0;36m<module>\u001b[0;34m\u001b[0m\n\u001b[1;32m      1\u001b[0m result = curve_fit(f = parabola, # функция, для которой ищутся параметры\n\u001b[0;32m----> 2\u001b[0;31m                    \u001b[0mxdata\u001b[0m\u001b[0;34m=\u001b[0m \u001b[0mx\u001b[0m\u001b[0;34m,\u001b[0m \u001b[0mydata\u001b[0m\u001b[0;34m=\u001b[0m\u001b[0my\u001b[0m\u001b[0;34m,\u001b[0m \u001b[0;31m# вводим экспериментальные точки\u001b[0m\u001b[0;34m\u001b[0m\u001b[0;34m\u001b[0m\u001b[0m\n\u001b[0m\u001b[1;32m      3\u001b[0m           )\n",
      "\u001b[0;31mNameError\u001b[0m: name 'x' is not defined"
     ]
    }
   ],
   "source": [
    "result = curve_fit(f = parabola, # функция, для которой ищутся параметры\n",
    "                   xdata= x, ydata=y, # вводим экспериментальные точки\n",
    "          )"
   ]
  },
  {
   "cell_type": "code",
   "execution_count": 16,
   "id": "b8dd56e5",
   "metadata": {},
   "outputs": [
    {
     "ename": "NameError",
     "evalue": "name 'result' is not defined",
     "output_type": "error",
     "traceback": [
      "\u001b[0;31m---------------------------------------------------------------------------\u001b[0m",
      "\u001b[0;31mNameError\u001b[0m                                 Traceback (most recent call last)",
      "\u001b[0;32m/tmp/ipykernel_16807/901269316.py\u001b[0m in \u001b[0;36m<module>\u001b[0;34m\u001b[0m\n\u001b[0;32m----> 1\u001b[0;31m \u001b[0mpopt\u001b[0m\u001b[0;34m,\u001b[0m \u001b[0mpcov\u001b[0m \u001b[0;34m=\u001b[0m \u001b[0mresult\u001b[0m \u001b[0;31m# декомпозиция кортежа по отдельным переменным\u001b[0m\u001b[0;34m\u001b[0m\u001b[0;34m\u001b[0m\u001b[0m\n\u001b[0m",
      "\u001b[0;31mNameError\u001b[0m: name 'result' is not defined"
     ]
    }
   ],
   "source": [
    "popt, pcov = result # декомпозиция кортежа по отдельным переменным"
   ]
  },
  {
   "cell_type": "code",
   "execution_count": 17,
   "id": "703ab0d8",
   "metadata": {
    "scrolled": true
   },
   "outputs": [
    {
     "ename": "NameError",
     "evalue": "name 'x' is not defined",
     "output_type": "error",
     "traceback": [
      "\u001b[0;31m---------------------------------------------------------------------------\u001b[0m",
      "\u001b[0;31mNameError\u001b[0m                                 Traceback (most recent call last)",
      "\u001b[0;32m/tmp/ipykernel_16807/3950474253.py\u001b[0m in \u001b[0;36m<module>\u001b[0;34m\u001b[0m\n\u001b[0;32m----> 1\u001b[0;31m \u001b[0mplt\u001b[0m\u001b[0;34m.\u001b[0m\u001b[0mplot\u001b[0m\u001b[0;34m(\u001b[0m\u001b[0mx\u001b[0m\u001b[0;34m,\u001b[0m \u001b[0mparabola\u001b[0m\u001b[0;34m(\u001b[0m\u001b[0mx\u001b[0m\u001b[0;34m,\u001b[0m \u001b[0;34m*\u001b[0m\u001b[0mpopt\u001b[0m\u001b[0;34m)\u001b[0m\u001b[0;34m,\u001b[0m \u001b[0mlabel\u001b[0m\u001b[0;34m=\u001b[0m\u001b[0;34m'Результат фитирования'\u001b[0m\u001b[0;34m)\u001b[0m \u001b[0;31m# Строим график\u001b[0m\u001b[0;34m\u001b[0m\u001b[0;34m\u001b[0m\u001b[0m\n\u001b[0m\u001b[1;32m      2\u001b[0m \u001b[0mplt\u001b[0m\u001b[0;34m.\u001b[0m\u001b[0merrorbar\u001b[0m\u001b[0;34m(\u001b[0m\u001b[0mx\u001b[0m\u001b[0;34m,\u001b[0m\u001b[0my\u001b[0m\u001b[0;34m,\u001b[0m \u001b[0myerr\u001b[0m\u001b[0;34m=\u001b[0m\u001b[0myerr\u001b[0m\u001b[0;34m,\u001b[0m \u001b[0mfmt\u001b[0m\u001b[0;34m=\u001b[0m\u001b[0;34m'.'\u001b[0m\u001b[0;34m,\u001b[0m \u001b[0mlabel\u001b[0m\u001b[0;34m=\u001b[0m\u001b[0;34m'Экспериментальные точки'\u001b[0m\u001b[0;34m)\u001b[0m \u001b[0;31m# Строим график с \"крестами\"\u001b[0m\u001b[0;34m\u001b[0m\u001b[0;34m\u001b[0m\u001b[0m\n\u001b[1;32m      3\u001b[0m \u001b[0mplt\u001b[0m\u001b[0;34m.\u001b[0m\u001b[0mplot\u001b[0m\u001b[0;34m(\u001b[0m\u001b[0mx\u001b[0m\u001b[0;34m,\u001b[0m \u001b[0mparabolla\u001b[0m\u001b[0;34m(\u001b[0m\u001b[0mx\u001b[0m\u001b[0;34m,\u001b[0m \u001b[0;36m1\u001b[0m\u001b[0;34m,\u001b[0m\u001b[0;34m-\u001b[0m\u001b[0;36m1\u001b[0m\u001b[0;34m,\u001b[0m\u001b[0;36m1\u001b[0m\u001b[0;34m)\u001b[0m\u001b[0;34m,\u001b[0m \u001b[0mlabel\u001b[0m\u001b[0;34m=\u001b[0m\u001b[0;34m\"Истиная зависимость\"\u001b[0m\u001b[0;34m)\u001b[0m\u001b[0;34m\u001b[0m\u001b[0;34m\u001b[0m\u001b[0m\n\u001b[1;32m      4\u001b[0m \u001b[0mplt\u001b[0m\u001b[0;34m.\u001b[0m\u001b[0mlegend\u001b[0m\u001b[0;34m(\u001b[0m\u001b[0;34m)\u001b[0m\u001b[0;34m;\u001b[0m \u001b[0;31m# Активируем легенду\u001b[0m\u001b[0;34m\u001b[0m\u001b[0;34m\u001b[0m\u001b[0m\n",
      "\u001b[0;31mNameError\u001b[0m: name 'x' is not defined"
     ]
    }
   ],
   "source": [
    "plt.plot(x, parabola(x, *popt), label='Результат фитирования') # Строим график\n",
    "plt.errorbar(x,y, yerr=yerr, fmt='.', label='Экспериментальные точки') # Строим график с \"крестами\"\n",
    "plt.plot(x, parabolla(x, 1,-1,1), label=\"Истиная зависимость\")\n",
    "plt.legend() # Активируем легенду"
   ]
  },
  {
   "cell_type": "markdown",
   "id": "314b1d94",
   "metadata": {},
   "source": [
    "### Пример 2"
   ]
  },
  {
   "cell_type": "code",
   "execution_count": 18,
   "id": "d9826aa2",
   "metadata": {
    "scrolled": true
   },
   "outputs": [
    {
     "name": "stdout",
     "output_type": "stream",
     "text": [
      "[2.99626848 4.68757627 6.57150234]\n",
      "[[ 1.14631889e-02 -1.10959097e-18 -1.16754702e-01]\n",
      " [-1.10959097e-18  9.05733444e-02 -2.96108982e-17]\n",
      " [-1.16754702e-01 -2.96108982e-17  2.11167454e+00]]\n",
      "a = 3.0 ± 0.11\n",
      "b = 4.69 ± 0.3\n",
      "c = 6.57 ± 1.45\n"
     ]
    },
    {
     "data": {
      "image/png": "[encoded data removed]",
      "text/plain": [
       "<Figure size 640x480 with 1 Axes>"
      ]
     },
     "metadata": {},
     "output_type": "display_data"
    }
   ],
   "source": [
    "z = np.linspace(-5, 5, 1000)\n",
    "# Данные\n",
    "x = np.linspace(-5, 5, 10)\n",
    "y = 3*x**2 + 5*x + 1 + 10*np.random.sample(len(x))\n",
    "\n",
    "# Фитируем многочленом второй степени с рассчетом матрицы ошибок\n",
    "params, cov = np.polyfit(x, y, 2, cov=True)\n",
    "plt.plot(x, y, 'o', markersize=2)\n",
    "plt.plot(z, params[0] * z**2 + params[1] * z + params[2])\n",
    "print(params)\n",
    "print(cov)\n",
    "print(f\"a = {params[0]:.3} \\u00B1 {np.sqrt(cov[0][0]):.2}\")\n",
    "print(f\"b = {params[1]:.3} \\u00B1 {np.sqrt(cov[1][1]):.2}\")\n",
    "print(f\"c = {params[2]:.3} \\u00B1 {np.sqrt(cov[2][2]):.3}\")"
   ]
  },
  {
   "cell_type": "code",
   "execution_count": null,
   "id": "fad2a34a",
   "metadata": {},
   "outputs": [],
   "source": []
  }
 ],
 "metadata": {
  "kernelspec": {
   "display_name": "Python 3 (ipykernel)",
   "language": "python",
   "name": "python3"
  },
  "language_info": {
   "codemirror_mode": {
    "name": "ipython",
    "version": 3
   },
   "file_extension": ".py",
   "mimetype": "text/x-python",
   "name": "python",
   "nbconvert_exporter": "python",
   "pygments_lexer": "ipython3",
   "version": "3.9.13"
  }
 },
 "nbformat": 4,
 "nbformat_minor": 5
}

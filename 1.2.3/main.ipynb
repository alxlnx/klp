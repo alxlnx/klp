{
 "cells": [
  {
   "cell_type": "markdown",
   "id": "e8964486",
   "metadata": {},
   "source": [
    "# Определение моментов инерции твёрдых тел с помощью трифилярного подвеса."
   ]
  },
  {
   "cell_type": "code",
   "execution_count": 1,
   "id": "dea8af8a",
   "metadata": {},
   "outputs": [],
   "source": [
    "import matplotlib as mpl\n",
    "import matplotlib.pyplot as plt\n",
    "import numpy as np\n",
    "\n",
    "# TODO: Setup font"
   ]
  },
  {
   "cell_type": "code",
   "execution_count": 2,
   "id": "16e3419a",
   "metadata": {
    "scrolled": true
   },
   "outputs": [
    {
     "data": {
      "image/png": "[encoded data removed]",
      "text/plain": [
       "<Figure size 150x150 with 1 Axes>"
      ]
     },
     "metadata": {},
     "output_type": "display_data"
    }
   ],
   "source": [
    "figure, axes = plt.subplots(figsize=(6, 6), dpi=25)"
   ]
  },
  {
   "cell_type": "code",
   "execution_count": 3,
   "id": "08747098",
   "metadata": {
    "scrolled": true
   },
   "outputs": [
    {
     "data": {
      "text/plain": [
       "Text(0.5, 1.0, 'Рис 1. Название')"
      ]
     },
     "execution_count": 3,
     "metadata": {},
     "output_type": "execute_result"
    }
   ],
   "source": [
    "axes.minorticks_on()\n",
    "axes.grid(which='major', linestyle='--', linewidth=0.5) # '-', '--', '-.', ':', '',\n",
    "\n",
    "axes.set_ylabel('Название оси Y')\n",
    "axes.set_xlabel('Название оси X')\n",
    "axes.set_title('Рис 1. Название', wrap=True)"
   ]
  },
  {
   "cell_type": "code",
   "execution_count": 4,
   "id": "79b05384",
   "metadata": {},
   "outputs": [
    {
     "name": "stdout",
     "output_type": "stream",
     "text": [
      "z0 = 2.141337348481084\n"
     ]
    }
   ],
   "source": [
    "R = 114.6 / 1e3  # От центра до нити\n",
    "r = 30.2  / 1e3  \n",
    "sigma_R, sigma_r = 0.5 / 1e3 , 0.3 / 1e3\n",
    "L = 2143  / 1e3 \n",
    "sigma_L = 0.5 / 1e3\n",
    "z0 = np.sqrt( np.square(L) - np.square(R  - r) )\n",
    "print(f'z0 = {z0}')"
   ]
  },
  {
   "cell_type": "code",
   "execution_count": 5,
   "id": "49f63bcb",
   "metadata": {
    "scrolled": true
   },
   "outputs": [
    {
     "name": "stdout",
     "output_type": "stream",
     "text": [
      "k = 0.0004018250763758491\n",
      "sigma_k = 4.360685049769217e-06, epsilon_k = 1.0852197401663475%\n"
     ]
    }
   ],
   "source": [
    "sigma_z0 = 0.5 / 1e3 # TODO: Написать/вычислить нормальное значение, хотя эта погрешность вообще не влияет\n",
    "g = 9.815\n",
    "four_pi_sq  = 4 * np.square(np.pi)\n",
    "k = g * R * r / (four_pi_sq * z0)\n",
    "print(f'k = {k}')\n",
    "\n",
    "sigma_k = np.sqrt(\n",
    "    np.square( g * r * sigma_R      / (four_pi_sq * z0) ) +\\\n",
    "    np.square( g * R * sigma_r      / (four_pi_sq * z0) ) +\\\n",
    "    np.square( g * R * r * sigma_z0 / (four_pi_sq * np.square(z0)) )\n",
    ")\n",
    "epsilon_k = (sigma_k / k) * 1e2\n",
    "print(f'sigma_k = {sigma_k}, epsilon_k = {epsilon_k}%')  # Наибольшую погрешность вносит sigma_r"
   ]
  },
  {
   "cell_type": "markdown",
   "id": "0fb4a548",
   "metadata": {},
   "source": [
    "### Определим моменты инерции"
   ]
  },
  {
   "cell_type": "code",
   "execution_count": 6,
   "id": "fcdfbccc",
   "metadata": {},
   "outputs": [],
   "source": [
    "def calculate_I(mass, period):\n",
    "    ''' Рассчитать момент инерции тела на трифилярном подвесе '''\n",
    "    return k * m * np.square(T)"
   ]
  },
  {
   "cell_type": "code",
   "execution_count": 7,
   "id": "86fff379",
   "metadata": {},
   "outputs": [
    {
     "name": "stdout",
     "output_type": "stream",
     "text": [
      "I_plat = 0.00741304642607989\n"
     ]
    }
   ],
   "source": [
    "m = 965.7     / 1e3  # Масса одного лишь подвеса\n",
    "sigma_m = 0.5 / 1e3\n",
    "N = 9\n",
    "t_plat = 39.337\n",
    "T_plat = t_plat / N\n",
    "# print(T_plat)\n",
    "I_plat = k * m * np.square(T_plat)\n",
    "print(f'I_plat = {I_plat}')"
   ]
  },
  {
   "cell_type": "code",
   "execution_count": 8,
   "id": "fa3d2756",
   "metadata": {},
   "outputs": [
    {
     "name": "stdout",
     "output_type": "stream",
     "text": [
      "I_disk = 0.0021074920691102426\n"
     ]
    }
   ],
   "source": [
    "M_disk = 584.7 / 1e3\n",
    "t_disk = 35.183\n",
    "T_disk = t_disk / N\n",
    "# print(T_disk)\n",
    "I_disk = k * (M_disk + m) * np.square(T_disk) - I_plat\n",
    "print(f'I_disk = {I_disk}')"
   ]
  },
  {
   "cell_type": "code",
   "execution_count": 9,
   "id": "24bd5e7a",
   "metadata": {},
   "outputs": [
    {
     "name": "stdout",
     "output_type": "stream",
     "text": [
      "I_rod = 0.0048067802202504065\n"
     ]
    }
   ],
   "source": [
    "M_rod = 1273.0 / 1e3\n",
    "t_rod = 33.171\n",
    "T_rod = t_rod / N\n",
    "I_rod = k * (M_rod + m) * np.square(T_rod) - I_plat\n",
    "print(f'I_rod = {I_rod}')"
   ]
  },
  {
   "cell_type": "code",
   "execution_count": 10,
   "id": "89f945a0",
   "metadata": {},
   "outputs": [
    {
     "name": "stdout",
     "output_type": "stream",
     "text": [
      "I_disk_rod = 0.0068900231883326415\n",
      "I_disk + I_rod = 0.006914272289360649\n"
     ]
    }
   ],
   "source": [
    "M_disk_rod = M_disk + M_rod\n",
    "t_disk_rod = 31.956\n",
    "T_disk_rod = t_disk_rod / N\n",
    "I_disk_rod = k * (M_disk_rod + m) * np.square(T_disk_rod) - I_plat\n",
    "print(f'I_disk_rod = {I_disk_rod}')\n",
    "\n",
    "print(f'I_disk + I_rod = {I_disk + I_rod}')"
   ]
  },
  {
   "cell_type": "markdown",
   "id": "a8bff577",
   "metadata": {},
   "source": [
    "### Рассчитаем погрешности моментов инерции"
   ]
  },
  {
   "cell_type": "code",
   "execution_count": null,
   "id": "ad47c02c",
   "metadata": {},
   "outputs": [],
   "source": []
  },
  {
   "cell_type": "markdown",
   "id": "f964f8fd",
   "metadata": {},
   "source": [
    "### Зависимость I от h"
   ]
  },
  {
   "cell_type": "code",
   "execution_count": 11,
   "id": "2dbc61d9",
   "metadata": {
    "scrolled": false
   },
   "outputs": [
    {
     "name": "stdout",
     "output_type": "stream",
     "text": [
      "[0.00187216 0.00199957 0.002473   0.00321364 0.00444065 0.00543902\n",
      " 0.00697545]\n",
      "I_разрезанного_диска = 0.0019212027766010813, m_раз_диска = 1.4247339204758986\n",
      "m_раз_диска по данным измерений = 1.5367\n"
     ]
    },
    {
     "data": {
      "image/png": "[encoded data removed]",
      "text/plain": [
       "<Figure size 640x480 with 1 Axes>"
      ]
     },
     "metadata": {},
     "output_type": "display_data"
    }
   ],
   "source": [
    "M = (770.7 + 766) / 1e3\n",
    "h_s = np.array([0.0,    10.0,   20.0,   30.0,   40.0,   50.0,     60.0])  # TODO: Find out how to set the type to floar\n",
    "h_s /= 1e3\n",
    "t_s = np.array([27.349, 27.536, 28.220, 29.258, 30.901, 32.176, 34.045])\n",
    "I_s = []\n",
    "for h, t in zip(h_s, t_s):\n",
    "    T = t / N\n",
    "    I = k * (M + m) * np.square(T) - I_plat\n",
    "    I_s.append(I)\n",
    "I_s = np.array(I_s)\n",
    "print(I_s)\n",
    "\n",
    "h_sq = h_s * h_s\n",
    "\n",
    "plt.scatter(h_sq, I_s, marker='o', color=[0,0,0], label=f'I($h^2$)')\n",
    "\n",
    "(k, b) = np.polyfit(h_sq, I_s, 1)\n",
    "x = np.array([min(h_sq), max(h_sq)])\n",
    "plt.plot(x, k * x + b, '-r', linewidth=1, label=f'Линейная аппроксимация $I = {k:.4f}h^2 + {b:.4f}$')\n",
    "\n",
    "plt.legend()\n",
    "\n",
    "print(f'I_разрезанного_диска = {b}, m_раз_диска = {k}')\n",
    "print(f'm_раз_диска по данным измерений = {M}')"
   ]
  },
  {
   "cell_type": "code",
   "execution_count": null,
   "id": "4efd713e",
   "metadata": {},
   "outputs": [],
   "source": []
  }
 ],
 "metadata": {
  "kernelspec": {
   "display_name": "Python 3 (ipykernel)",
   "language": "python",
   "name": "python3"
  },
  "language_info": {
   "codemirror_mode": {
    "name": "ipython",
    "version": 3
   },
   "file_extension": ".py",
   "mimetype": "text/x-python",
   "name": "python",
   "nbconvert_exporter": "python",
   "pygments_lexer": "ipython3",
   "version": "3.9.13"
  }
 },
 "nbformat": 4,
 "nbformat_minor": 5
}

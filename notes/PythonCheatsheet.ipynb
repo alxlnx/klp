{
 "cells": [
  {
   "cell_type": "markdown",
   "id": "94125051",
   "metadata": {},
   "source": [
    "# Python Cheatsheet"
   ]
  },
  {
   "cell_type": "markdown",
   "id": "6be0ce1d",
   "metadata": {},
   "source": [
    "This cheatsheet is based on the huge notebook sent by the tutor."
   ]
  },
  {
   "cell_type": "markdown",
   "id": "a88ab983",
   "metadata": {},
   "source": [
    "- Ctrl  + Enter\n",
    "- Shift + Enter\n",
    "- Alt   + Enter"
   ]
  },
  {
   "cell_type": "code",
   "execution_count": 5,
   "id": "2b68cfe0",
   "metadata": {},
   "outputs": [
    {
     "data": {
      "text/plain": [
       "'Hello World'"
      ]
     },
     "execution_count": 5,
     "metadata": {},
     "output_type": "execute_result"
    }
   ],
   "source": [
    "### NO NEED TO PRINT()\n",
    "s = 'Hello World'\n",
    "s"
   ]
  },
  {
   "cell_type": "markdown",
   "id": "94809888",
   "metadata": {},
   "source": [
    "TeX Syntax [https://en.wikibooks.org/wiki/LaTeX/Mathematics  \n",
    "Magics     [https://ipython.readthedocs.io/en/stable/interactive/magics.html"
   ]
  },
  {
   "cell_type": "raw",
   "id": "b6e8d391",
   "metadata": {},
   "source": [
    "%run foo.py   --- run foo.py.\n",
    "%load bar.py  --- paste code from bar.py in this cell."
   ]
  },
  {
   "cell_type": "markdown",
   "id": "1a09af93",
   "metadata": {},
   "source": [
    "### Useful data structures"
   ]
  },
  {
   "cell_type": "markdown",
   "id": "c662cc55",
   "metadata": {},
   "source": [
    "**List**: homogenous, heterogenous"
   ]
  },
  {
   "cell_type": "markdown",
   "id": "9eaf123e",
   "metadata": {},
   "source": [
    "**Tuple**: Created by ',': 4,5,6. **See Named Tuples: https://docs.python.org/3/library/collections.html#collections.namedtuple**"
   ]
  },
  {
   "cell_type": "markdown",
   "id": "fa99065d",
   "metadata": {},
   "source": [
    "**Range**: Constant space (start, stop, step are saved in memory) for any length. [a, b)"
   ]
  },
  {
   "cell_type": "markdown",
   "id": "93dd7edc",
   "metadata": {},
   "source": [
    "**Strings**: \"\"\"Multiline string (no \\ needed)\"\"\""
   ]
  },
  {
   "cell_type": "markdown",
   "id": "c2e0bd58",
   "metadata": {},
   "source": [
    "**Set and frozenset**: unordered (no slicing and []) set objects. Frozen is immutable => can be used as a dictionary key."
   ]
  },
  {
   "cell_type": "markdown",
   "id": "e99c4835",
   "metadata": {},
   "source": [
    "**Dictionaries**:"
   ]
  },
  {
   "cell_type": "code",
   "execution_count": 7,
   "id": "3d00894d",
   "metadata": {},
   "outputs": [
    {
     "name": "stdout",
     "output_type": "stream",
     "text": [
      "{1: 2}\n",
      "{1: 3}\n",
      "True\n"
     ]
    }
   ],
   "source": [
    "example_dict = {1: 2}\n",
    "print(example_dict)\n",
    "example_dict[1.0] = 3\n",
    "print(example_dict)\n",
    "\n",
    "# примеры создания dict\n",
    "a = dict(one=1, two=2, three=3)\n",
    "b = {'one': 1, 'two': 2, 'three': 3}\n",
    "c = dict(zip(['one', 'two', 'three'], [1, 2, 3]))\n",
    "d = dict([('two', 2), ('one', 1), ('three', 3)])\n",
    "e = dict({'three': 3, 'one': 1, 'two': 2})\n",
    "f = dict({'one': 1, 'three': 3}, two=2)\n",
    "print(a == b == c == d == e == f)"
   ]
  },
  {
   "cell_type": "markdown",
   "id": "d78dd4dd",
   "metadata": {},
   "source": [
    "TODO: FOR, Syntax Sugar, Numpy"
   ]
  }
 ],
 "metadata": {
  "kernelspec": {
   "display_name": "Python 3 (ipykernel)",
   "language": "python",
   "name": "python3"
  },
  "language_info": {
   "codemirror_mode": {
    "name": "ipython",
    "version": 3
   },
   "file_extension": ".py",
   "mimetype": "text/x-python",
   "name": "python",
   "nbconvert_exporter": "python",
   "pygments_lexer": "ipython3",
   "version": "3.10.6"
  }
 },
 "nbformat": 4,
 "nbformat_minor": 5
}

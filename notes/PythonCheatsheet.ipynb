{
 "cells": [
  {
   "cell_type": "markdown",
   "id": "94125051",
   "metadata": {},
   "source": [
    "# Python Cheatsheet"
   ]
  },
  {
   "cell_type": "markdown",
   "id": "6be0ce1d",
   "metadata": {},
   "source": [
    "This cheatsheet is based on the huge notebook sent by the tutor."
   ]
  },
  {
   "cell_type": "markdown",
   "id": "f47fa77b",
   "metadata": {},
   "source": [
    "- Ctrl  + Enter\n",
    "- Shift + Enter\n",
    "- Alt   + Enter"
   ]
  },
  {
   "cell_type": "code",
   "execution_count": 5,
   "id": "8c37b71c",
   "metadata": {},
   "outputs": [
    {
     "data": {
      "text/plain": [
       "'Hello World'"
      ]
     },
     "execution_count": 5,
     "metadata": {},
     "output_type": "execute_result"
    }
   ],
   "source": [
    "### NO NEED TO PRINT()\n",
    "s = 'Hello World'\n",
    "s"
   ]
  },
  {
   "cell_type": "markdown",
   "id": "9f1e83f8",
   "metadata": {},
   "source": [
    "TeX Syntax [https://en.wikibooks.org/wiki/LaTeX/Mathematics  \n",
    "Magics     [https://ipython.readthedocs.io/en/stable/interactive/magics.html"
   ]
  },
  {
   "cell_type": "raw",
   "id": "ef07ddd4",
   "metadata": {},
   "source": [
    "%run foo.py   --- run foo.py.\n",
    "%load bar.py  --- paste code from bar.py in this cell."
   ]
  },
  {
   "cell_type": "markdown",
   "id": "6ab8a3db",
   "metadata": {},
   "source": [
    "### Useful data structures"
   ]
  },
  {
   "cell_type": "markdown",
   "id": "542c9abf",
   "metadata": {},
   "source": [
    "**List**: homogenous, heterogenous"
   ]
  },
  {
   "cell_type": "markdown",
   "id": "6f6ab04f",
   "metadata": {},
   "source": [
    "**Tuple**: Created by ',': 4,5,6. **See Named Tuples: https://docs.python.org/3/library/collections.html#collections.namedtuple**"
   ]
  },
  {
   "cell_type": "markdown",
   "id": "5e79544b",
   "metadata": {},
   "source": [
    "**Range**: Constant space (start, stop, step are saved in memory) for any length. [a, b)"
   ]
  },
  {
   "cell_type": "markdown",
   "id": "50442c76",
   "metadata": {},
   "source": [
    "**Strings**: \"\"\"Multiline string (no \\ needed)\"\"\""
   ]
  },
  {
   "cell_type": "markdown",
   "id": "57a18b4e",
   "metadata": {},
   "source": [
    "**Set and frozenset**: unordered (no slicing and []) set objects. Frozen is immutable => can be used as a dictionary key."
   ]
  },
  {
   "cell_type": "markdown",
   "id": "4f82ae9d",
   "metadata": {},
   "source": [
    "**Dictionaries**:"
   ]
  },
  {
   "cell_type": "code",
   "execution_count": 7,
   "id": "69cabe16",
   "metadata": {},
   "outputs": [
    {
     "name": "stdout",
     "output_type": "stream",
     "text": [
      "{1: 2}\n",
      "{1: 3}\n",
      "True\n"
     ]
    }
   ],
   "source": [
    "example_dict = {1: 2}\n",
    "print(example_dict)\n",
    "example_dict[1.0] = 3\n",
    "print(example_dict)\n",
    "\n",
    "# примеры создания dict\n",
    "a = dict(one=1, two=2, three=3)\n",
    "b = {'one': 1, 'two': 2, 'three': 3}\n",
    "c = dict(zip(['one', 'two', 'three'], [1, 2, 3]))\n",
    "d = dict([('two', 2), ('one', 1), ('three', 3)])\n",
    "e = dict({'three': 3, 'one': 1, 'two': 2})\n",
    "f = dict({'one': 1, 'three': 3}, two=2)\n",
    "print(a == b == c == d == e == f)\n",
    "\n",
    "# Итерация по dict\n",
    "users = {\"Andy\": \"Inactive\", \"Rayan\": \"Active\"}\n",
    "for usr, status in users.copy().items():        ## Items gives elements\n",
    "    if status == \"Inactive\":\n",
    "        del users[usr]\n",
    "print(users)"
   ]
  },
  {
   "cell_type": "markdown",
   "id": "c175af82",
   "metadata": {},
   "source": [
    "### enumerate()"
   ]
  },
  {
   "cell_type": "code",
   "execution_count": 7,
   "id": "a9fd204f",
   "metadata": {
    "scrolled": true
   },
   "outputs": [
    {
     "name": "stdout",
     "output_type": "stream",
     "text": [
      "{'Rayan': 'Active'}\n",
      "0 NASDAQ\n",
      "1 TESLA\n",
      "2 APL\n",
      "DASR\n",
      "DREC\n",
      "PAMI\n"
     ]
    }
   ],
   "source": [
    "for idx, val in enumerate( (\"NASDAQ\", \"TESLA\", \"APL\") ):\n",
    "    print(idx, val)"
   ]
  },
  {
   "cell_type": "markdown",
   "id": "d75a635b",
   "metadata": {},
   "source": [
    "### Как удалить дубликаты из стурктуры данных"
   ]
  },
  {
   "cell_type": "code",
   "execution_count": 8,
   "id": "11233c8f",
   "metadata": {},
   "outputs": [
    {
     "name": "stdout",
     "output_type": "stream",
     "text": [
      "DASR\n",
      "DREC\n",
      "PAMI\n"
     ]
    }
   ],
   "source": [
    "facts = (\"PAMI\", \"DREC\", \"DASR\", \"DASR\")\n",
    "for f in sorted(set(facts)):\n",
    "     print(f)"
   ]
  },
  {
   "cell_type": "markdown",
   "id": "da2ff14b",
   "metadata": {},
   "source": [
    "### Sugar"
   ]
  },
  {
   "cell_type": "code",
   "execution_count": 30,
   "id": "783dd1e9",
   "metadata": {},
   "outputs": [
    {
     "data": {
      "text/plain": [
       "2"
      ]
     },
     "execution_count": 30,
     "metadata": {},
     "output_type": "execute_result"
    }
   ],
   "source": [
    "a = 2 if 1 > 0 else -2\n",
    "a   "
   ]
  },
  {
   "cell_type": "markdown",
   "id": "88d59dd8",
   "metadata": {},
   "source": [
    "### Map()"
   ]
  },
  {
   "cell_type": "code",
   "execution_count": 29,
   "id": "02bfafb0",
   "metadata": {},
   "outputs": [
    {
     "name": "stdout",
     "output_type": "stream",
     "text": [
      "4\n",
      "9\n",
      "16\n",
      "[2, 16, 216, 4096, 100000]\n",
      "[1, 9, 25, 49, 81]\n",
      "[-3, -21, -40, 7]\n"
     ]
    }
   ],
   "source": [
    "f = lambda arg: arg * arg\n",
    "\n",
    "## Map returns an iterator.\n",
    "## map(function, iteratable1, iteratable2, ...)\n",
    "for item in map(lambda x: x ** 2, [2, 3, 4]):\n",
    "    print(item, sep=' ')\n",
    "\n",
    "### Built-in usage\n",
    "base_numbers = [2, 4, 6, 8, 10, 12, 14, 16]\n",
    "powers = [1, 2, 3, 4, 5]\n",
    "numbers_powers = list(map(pow, base_numbers, powers))    \n",
    "print(numbers_powers)\n",
    "###    \n",
    "\n",
    "print(list( map(lambda x: x**2, range(1,11,2)) ))\n",
    "print( list( map( lambda a, b: a**2 - b**2, range(1,11), [2, 5, 7, 3] ) ) ) "
   ]
  },
  {
   "cell_type": "markdown",
   "id": "f5bd6b57",
   "metadata": {},
   "source": [
    "### Filter()"
   ]
  },
  {
   "cell_type": "code",
   "execution_count": 3,
   "id": "34a5377d",
   "metadata": {},
   "outputs": [
    {
     "name": "stdout",
     "output_type": "stream",
     "text": [
      "['A', 'B', 'C', 'D', 'a', 'k']\n"
     ]
    }
   ],
   "source": [
    "# filter(predicate, iterable) - only if pred is true\n",
    "stuff = ['A', 'B', 'C', 'D', 'a', 'k', 0, 0]\n",
    "filtered = list( filter(lambda x: x != 0, stuff) )\n",
    "print(filtered)"
   ]
  },
  {
   "cell_type": "markdown",
   "id": "6f1496bb",
   "metadata": {},
   "source": [
    "## Numpy"
   ]
  },
  {
   "cell_type": "code",
   "execution_count": 57,
   "id": "98b31c3f",
   "metadata": {},
   "outputs": [
    {
     "name": "stdout",
     "output_type": "stream",
     "text": [
      "float64\n"
     ]
    }
   ],
   "source": [
    "import numpy as np\n",
    "# np.ndarray, массивы однородны, т.е либо все int32, либо float64.\n",
    "# Точку после чисел (1.) ставим, потому что хотим именно float-массив.\n",
    "# Одной точки достаточно, но лучше все.\n",
    "arrayA = np.array([ [1., 0, 0],\n",
    "           [0, 1, 2]\n",
    "        ])\n",
    "print(arrayA.dtype)"
   ]
  },
  {
   "cell_type": "code",
   "execution_count": 42,
   "id": "12569653",
   "metadata": {},
   "outputs": [
    {
     "name": "stdout",
     "output_type": "stream",
     "text": [
      "[[ 0  1  2  3  4]\n",
      " [ 5  6  7  8  9]\n",
      " [10 11 12 13 14]]\n",
      "(3, 5)\n",
      "2\n",
      "15\n"
     ]
    }
   ],
   "source": [
    "a = np.arange(15).reshape(3, 5) ## Num of elements (i.e. 15) must be specific.\n",
    "print(a)\n",
    "print(a.shape) ## (rows, cols) в 2D\n",
    "print(a.ndim)  ## Степени свободы\n",
    "print(a.size)  ## rows * cols = кол-во элементов"
   ]
  },
  {
   "cell_type": "code",
   "execution_count": 60,
   "id": "b5a064c5",
   "metadata": {},
   "outputs": [
    {
     "name": "stdout",
     "output_type": "stream",
     "text": [
      "(2, 3)\n",
      "(2, 3)\n",
      "3 (2, 2, 3)\n",
      "6 6\n"
     ]
    }
   ],
   "source": [
    "b = np.array( [[1, 2, 3], [4, 5, 6]] )\n",
    "print(b.shape)\n",
    "c = np.array( ((1, 2, 3), (4, 5, 6)) )\n",
    "print(c.shape)\n",
    "d = np.array( [ [[1, 2, 3], [4, 5, 6]], [[7, 8, 9], [10, 11, 12]] ] )\n",
    "print(d.ndim, d.shape) # shape - сколько вариантов на каждом шаге при поиске элемента\n",
    "# В какой из [] ты? Внутри? Ещё внутри?\n",
    "\n",
    "# Indeces\n",
    "print(d[0][1][2], d[0, 1, 2], sep=' ')"
   ]
  },
  {
   "cell_type": "code",
   "execution_count": 65,
   "id": "02c8e4fc",
   "metadata": {},
   "outputs": [
    {
     "name": "stdout",
     "output_type": "stream",
     "text": [
      "[[0. 0. 0. 0.]\n",
      " [0. 0. 0. 0.]\n",
      " [0. 0. 0. 0.]]\n",
      "[[1. 1. 1. 1. 1.]\n",
      " [1. 1. 1. 1. 1.]\n",
      " [1. 1. 1. 1. 1.]\n",
      " [1. 1. 1. 1. 1.]]\n"
     ]
    }
   ],
   "source": [
    "zero = np.zeros( [3, 4] )\n",
    "print(zero)\n",
    "one  = np.ones ( (4, 5) )\n",
    "print(one)"
   ]
  },
  {
   "cell_type": "code",
   "execution_count": 77,
   "id": "fc87a43e",
   "metadata": {},
   "outputs": [
    {
     "name": "stdout",
     "output_type": "stream",
     "text": [
      "[ 1  2  3  4  5  6  7  8  9 10]\n",
      "[0.0, 0.2, 0.4, 0.6000000000000001]\n",
      "[ 1.  2.  3.  4.  5.  6.  7.  8.  9. 10.]\n"
     ]
    }
   ],
   "source": [
    "## ARANGE - откуда, куда, с каким шагом (кол-во автомат.). [a, b), как range.\n",
    "print(np.arange(1, 11, 1))  ## Возвр. np.ndarray\n",
    "print(list(np.arange(0, 0.8, 0.2)))\n",
    "\n",
    "## LINSPACE - откуда, куда, сколько хотим в итоге (шаг автомат.). [a; b]\n",
    "print(np.linspace(1, 10, 10))"
   ]
  },
  {
   "cell_type": "markdown",
   "id": "f5a1cd7a",
   "metadata": {},
   "source": [
    "### Операции"
   ]
  },
  {
   "cell_type": "code",
   "execution_count": 95,
   "id": "fcea6c59",
   "metadata": {},
   "outputs": [
    {
     "name": "stdout",
     "output_type": "stream",
     "text": [
      "[[1 2]\n",
      " [3 4]]\n",
      "[[0 1]\n",
      " [2 3]]\n",
      "\n",
      "[[1 1]\n",
      " [1 1]]\n",
      "[[0 1]\n",
      " [4 9]]\n",
      "[[False False]\n",
      " [ True  True]]\n",
      "[[ 2.71828183  7.3890561 ]\n",
      " [20.08553692 54.59815003]]\n",
      "\n",
      "[[ 4  7]\n",
      " [ 8 15]]\n",
      "[[ 0  2]\n",
      " [ 6 12]]\n"
     ]
    }
   ],
   "source": [
    "a = np.array([ [1, 2], [3, 4] ])\n",
    "b = np.arange(4).reshape(2, 2) ## = np.arange(0, 4, 1)\n",
    "print(a)\n",
    "print(b)\n",
    "print() ## Операции поэлементны\n",
    "print(a - b)\n",
    "print(b ** 2)\n",
    "print(a > 2)\n",
    "print(np.exp(a))\n",
    "print() ## Матричное\n",
    "print(a @ b) ## = np.dot(a, b), a.dot(b)\n",
    "print(a * b) ## c_i_j = a_i_j * b_i_j"
   ]
  },
  {
   "cell_type": "code",
   "execution_count": 92,
   "id": "6a5fb8c9",
   "metadata": {},
   "outputs": [
    {
     "name": "stdout",
     "output_type": "stream",
     "text": [
      "10\n",
      "1\n",
      "4\n"
     ]
    }
   ],
   "source": [
    "print(a.sum())\n",
    "print(a.min())\n",
    "print(a.max())"
   ]
  },
  {
   "cell_type": "code",
   "execution_count": 94,
   "id": "0af6abbc",
   "metadata": {},
   "outputs": [
    {
     "name": "stdout",
     "output_type": "stream",
     "text": [
      "[2 4]\n",
      "[1 5]\n",
      "[0 2]\n",
      "[[0 1]\n",
      " [2 5]]\n"
     ]
    }
   ],
   "source": [
    "print(b.sum(axis=0))     # sum of each column\n",
    "print(b.sum(axis=1))\n",
    "print(b.min(axis=1))     # min of each row\n",
    "print(b.cumsum(axis=1))  # cumulative sum along each row ##??????????????"
   ]
  },
  {
   "cell_type": "code",
   "execution_count": 96,
   "id": "a8c5b4c7",
   "metadata": {},
   "outputs": [],
   "source": [
    "## TODO: Одномерные массивы можно индексировать, нарезать и итерировать, как встроенные типы последовательностей Python (например, списки)"
   ]
  },
  {
   "cell_type": "code",
   "execution_count": 7,
   "id": "d3feac92",
   "metadata": {},
   "outputs": [
    {
     "name": "stdout",
     "output_type": "stream",
     "text": [
      "[[0, 0, 0, 0, 0], [0, 0, 0, 0, 0], [0, 0, 0, 0, 0]]\n"
     ]
    },
    {
     "data": {
      "text/plain": [
       "[[0, 0, 0, 1, 0], [0, 0, 0, 1, 0], [0, 0, 0, 1, 0]]"
      ]
     },
     "execution_count": 7,
     "metadata": {},
     "output_type": "execute_result"
    }
   ],
   "source": [
    "M = [[0] * 5] * 3\n",
    "print(M)\n",
    "M[0][3] = 1\n",
    "M"
   ]
  }
 ],
 "metadata": {
  "kernelspec": {
   "display_name": "Python 3 (ipykernel)",
   "language": "python",
   "name": "python3"
  },
  "language_info": {
   "codemirror_mode": {
    "name": "ipython",
    "version": 3
   },
   "file_extension": ".py",
   "mimetype": "text/x-python",
   "name": "python",
   "nbconvert_exporter": "python",
   "pygments_lexer": "ipython3",
   "version": "3.10.6"
  }
 },
 "nbformat": 4,
 "nbformat_minor": 5
}

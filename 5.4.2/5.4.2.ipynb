{
 "cells": [
  {
   "cell_type": "markdown",
   "metadata": {},
   "source": [
    "# 5.4.2 Спектр бета частиц"
   ]
  },
  {
   "cell_type": "code",
   "execution_count": 53,
   "metadata": {},
   "outputs": [],
   "source": [
    "!. ../.venv/bin/activate\n",
    "# %matplotlib qt\n",
    "import pandas as pd\n",
    "import numpy as np\n",
    "import mygraph as mg"
   ]
  },
  {
   "cell_type": "code",
   "execution_count": 54,
   "metadata": {},
   "outputs": [],
   "source": [
    "df = pd.read_csv('data.csv', sep='\\t')"
   ]
  },
  {
   "cell_type": "code",
   "execution_count": 55,
   "metadata": {},
   "outputs": [
    {
     "data": {
      "text/html": [
       "<div>\n",
       "<style scoped>\n",
       "    .dataframe tbody tr th:only-of-type {\n",
       "        vertical-align: middle;\n",
       "    }\n",
       "\n",
       "    .dataframe tbody tr th {\n",
       "        vertical-align: top;\n",
       "    }\n",
       "\n",
       "    .dataframe thead th {\n",
       "        text-align: right;\n",
       "    }\n",
       "</style>\n",
       "<table border=\"1\" class=\"dataframe\">\n",
       "  <thead>\n",
       "    <tr style=\"text-align: right;\">\n",
       "      <th></th>\n",
       "      <th>I, A</th>\n",
       "      <th>N</th>\n",
       "      <th>N-Nb</th>\n",
       "      <th>p, keV/c</th>\n",
       "      <th>T, keV</th>\n",
       "      <th>mkFermi</th>\n",
       "    </tr>\n",
       "  </thead>\n",
       "  <tbody>\n",
       "    <tr>\n",
       "      <th>0</th>\n",
       "      <td>0.0</td>\n",
       "      <td>1.609</td>\n",
       "      <td>0.019</td>\n",
       "      <td>0.0</td>\n",
       "      <td>0.0</td>\n",
       "      <td>0.0</td>\n",
       "    </tr>\n",
       "    <tr>\n",
       "      <th>1</th>\n",
       "      <td>0.2</td>\n",
       "      <td>1.509</td>\n",
       "      <td>-0.081</td>\n",
       "      <td>56.2</td>\n",
       "      <td>3.1</td>\n",
       "      <td>0.0</td>\n",
       "    </tr>\n",
       "    <tr>\n",
       "      <th>2</th>\n",
       "      <td>0.4</td>\n",
       "      <td>1.529</td>\n",
       "      <td>-0.061</td>\n",
       "      <td>112.3</td>\n",
       "      <td>12.2</td>\n",
       "      <td>0.0</td>\n",
       "    </tr>\n",
       "  </tbody>\n",
       "</table>\n",
       "</div>"
      ],
      "text/plain": [
       "   I, A      N   N-Nb  p, keV/c  T, keV  mkFermi\n",
       "0   0.0  1.609  0.019       0.0     0.0      0.0\n",
       "1   0.2  1.509 -0.081      56.2     3.1      0.0\n",
       "2   0.4  1.529 -0.061     112.3    12.2      0.0"
      ]
     },
     "execution_count": 55,
     "metadata": {},
     "output_type": "execute_result"
    }
   ],
   "source": [
    "df.head(3)"
   ]
  },
  {
   "cell_type": "code",
   "execution_count": 56,
   "metadata": {},
   "outputs": [],
   "source": [
    "X = df['I, A']\n",
    "Y = df['N-Nb']\n",
    "\n",
    "fig = mg.make_figure(dpi_mode='high')\n",
    "ax = fig.add_subplot()\n",
    "mg.set_grids(fig)\n",
    "mg.set_title(ax, 'Зависимость числа отсчётов от тока в фокусирующей катушке')\n",
    "mg.set_label(ax, 'Ток I, A', r'Число отсчётов за вычетом фона, 1/сек')\n",
    "for x, y in zip(X, Y):\n",
    "  mg.draw_errorbar(ax, x, y, y_err=(np.sqrt(y/100) if y > 0 else 0) )"
   ]
  },
  {
   "cell_type": "code",
   "execution_count": 57,
   "metadata": {},
   "outputs": [
    {
     "name": "stdout",
     "output_type": "stream",
     "text": [
      "Конверсионный пик приходится на ток 3.6 A\n",
      "p_conv = 1006.7 keV/c\n",
      "k = 279.6 keV/(c * A)\n"
     ]
    }
   ],
   "source": [
    "I_conv = X[np.argmax(Y)]\n",
    "print(f'Конверсионный пик приходится на ток {I_conv} A')\n",
    "\n",
    "T_conv = 0.624 # MeV\n",
    "eps = 0.5 + 0.624 # MeV\n",
    "c = 3e8\n",
    "pc_conv = np.sqrt( np.square(eps) - np.square(0.5) ) # MeV\n",
    "print(f'p_conv = {(pc_conv * 1e3):.5} keV/c') # keV/c\n",
    "k = pc_conv * 1e3 / I_conv # keV / (c * A)\n",
    "print(f'k = {k:.4} keV/(c * A)')"
   ]
  },
  {
   "cell_type": "markdown",
   "metadata": {},
   "source": [
    "${m^2c^4 = \\varepsilon^2 - p^2c^2 \\rightarrow pc = \\sqrt{\\varepsilon^2 - m^2c^4}}$\n",
    "\n",
    "${\\varepsilon = mc^2 + T}$"
   ]
  },
  {
   "cell_type": "code",
   "execution_count": 58,
   "metadata": {},
   "outputs": [
    {
     "name": "stdout",
     "output_type": "stream",
     "text": [
      "p_conv = 1010.7 keV/c\n"
     ]
    }
   ],
   "source": [
    "X = df['p, keV/c']\n",
    "Y = df['N-Nb']\n",
    "\n",
    "fig = mg.make_figure(dpi_mode='high')\n",
    "ax = fig.add_subplot()\n",
    "mg.set_grids(fig)\n",
    "mg.set_title(ax, 'Зависимость числа отсчётов от импульса сфокусированных электронов')\n",
    "mg.set_label(ax, 'Импульс p, кэВ/с', 'Число отсчётов за вычетом фона, 1/сек')\n",
    "for x, y in zip(X, Y):\n",
    "  mg.draw_errorbar(ax, x, y, y_err=(np.sqrt(y/100) if y > 0 else 0) )\n",
    "\n",
    "print(f'p_conv = {X[np.argmax(Y)]} keV/c')"
   ]
  },
  {
   "cell_type": "code",
   "execution_count": 59,
   "metadata": {},
   "outputs": [
    {
     "name": "stdout",
     "output_type": "stream",
     "text": [
      "T_conv = 621.6 keV\n"
     ]
    }
   ],
   "source": [
    "X = df['T, keV']\n",
    "Y = df['N-Nb']\n",
    "\n",
    "fig = mg.make_figure(dpi_mode='high')\n",
    "ax = fig.add_subplot()\n",
    "mg.set_grids(fig)\n",
    "mg.set_title(ax, 'Зависимость числа отсчётов от кинетической энергии сфокусированных электронов')\n",
    "mg.set_label(ax, 'Кин. энергия T, кэВ', 'Число отсчётов за вычетом фона, 1/сек')\n",
    "for x, y in zip(X, Y):\n",
    "  mg.draw_errorbar(ax, x, y, y_err=(np.sqrt(y/100) if y > 0 else 0) )\n",
    "\n",
    "print(f'T_conv = {X[np.argmax(Y)]} keV')"
   ]
  },
  {
   "cell_type": "code",
   "execution_count": 60,
   "metadata": {},
   "outputs": [
    {
     "name": "stdout",
     "output_type": "stream",
     "text": [
      "k = -0.2932912845563345 +- 0.0177355508556282; b = 198.16149442984874 +- 2.64684769480006\n",
      "T_max = 675.6 keV +- 41.84 keV\n"
     ]
    },
    {
     "name": "stderr",
     "output_type": "stream",
     "text": [
      "/home/alx/repos/labs/.venv/lib/python3.12/site-packages/ipykernel/eventloops.py:145: UserWarning: This figure was using a layout engine that is incompatible with subplots_adjust and/or tight_layout; not calling subplots_adjust.\n",
      "  el.exec() if hasattr(el, \"exec\") else el.exec_()\n",
      "/home/alx/repos/labs/.venv/lib/python3.12/site-packages/ipykernel/eventloops.py:145: UserWarning: The figure layout has changed to tight\n",
      "  el.exec() if hasattr(el, \"exec\") else el.exec_()\n"
     ]
    }
   ],
   "source": [
    "X = df['T, keV'][4:] # В первых четырёх нули, отбрасываем\n",
    "# Y = np.sqrt(df['N-Nb'])/(pow(df['p, keV/c'], 1.5)) * 1e6\n",
    "Y = df['mkFermi'][4:]\n",
    "\n",
    "fig = mg.make_figure(dpi_mode='high')\n",
    "ax = fig.add_subplot()\n",
    "mg.set_grids(fig)\n",
    "mg.set_title(ax, r'Зависимость $\\sqrt{N-N_ф}/p^{3/2}$ от кинетической энергии сфокусированных электронов')\n",
    "mg.set_label(ax, 'Кин. энергия T, кэВ', r'$\\sqrt{N-N_ф}/p^{3/2}$ * $10^6$')\n",
    "mg.draw_errorbar(ax, X, Y)\n",
    "\n",
    "k, s_k, b, s_b = mg.linls(np.array(X[2:-9]), np.array(Y[2:-9]))\n",
    "ax.plot(np.array(X[2:]), np.array(X[2:]) * k + b, c='r')\n",
    "#mg.display_linls(ax)\n",
    "print(f'k = {k} +- {s_k}; b = {b} +- {s_b}')\n",
    "T_max = -b / k\n",
    "T_err = np.sqrt( np.square(s_b/k) + np.square(b*s_k/k/k) )\n",
    "print(f'T_max = {T_max:.4} keV +- {T_err:.4} keV')"
   ]
  }
 ],
 "metadata": {
  "kernelspec": {
   "display_name": ".venv",
   "language": "python",
   "name": "python3"
  },
  "language_info": {
   "codemirror_mode": {
    "name": "ipython",
    "version": 3
   },
   "file_extension": ".py",
   "mimetype": "text/x-python",
   "name": "python",
   "nbconvert_exporter": "python",
   "pygments_lexer": "ipython3",
   "version": "3.12.3"
  }
 },
 "nbformat": 4,
 "nbformat_minor": 2
}
